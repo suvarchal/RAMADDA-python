{
 "cells": [
  {
   "cell_type": "markdown",
   "metadata": {},
   "source": [
    "# Searching in RAMADDA repository is fun"
   ]
  },
  {
   "cell_type": "code",
   "execution_count": 1,
   "metadata": {
    "collapsed": false
   },
   "outputs": [],
   "source": [
    "import urllib\n",
    "import json"
   ]
  },
  {
   "cell_type": "markdown",
   "metadata": {},
   "source": [
    "## Search by type\n",
    "\n",
    "https://geodesystems.com/repository/search/type/type_idv_bundle\n",
    "\n",
    "For a search one could ask output to be json or csv or bulkdownload script like \n",
    "https://geodesystems.com/repository/search/type/type_idv_bundle?max=50&type=type_idv_bundle&output=json\n",
    "\n",
    "https://geodesystems.com/repository/search/type/type_idv_bundle?max=50&type=type_idv_bundle&output=default.csv\n",
    "\n",
    "https://geodesystems.com/repository/search/type/type_idv_bundle?max=50&type=type_idv_bundle&output=bulk.curl\n",
    "\n",
    "#### For example to get output in json"
   ]
  },
  {
   "cell_type": "code",
   "execution_count": 2,
   "metadata": {
    "collapsed": false
   },
   "outputs": [],
   "source": [
    "fil,head=urllib.urlretrieve('http://geodesystems.com/repository/search/type/type_idv_bundle?max=5&type=type_idv_bundle&output=json')\n",
    "#json.load(open(fil)) #Uncomment to see the output"
   ]
  },
  {
   "cell_type": "markdown",
   "metadata": {},
   "source": [
    "### Search can specify a time period and also files containing Latitude and Longitude if applicable"
   ]
  },
  {
   "cell_type": "code",
   "execution_count": 3,
   "metadata": {
    "collapsed": false
   },
   "outputs": [],
   "source": [
    "fil,head=urllib.urlretrieve('http://geodesystems.com/repository/search/type/type_idv_bundle?text=&datadate.from=2016-01-01&datadate.to=2017-01-18&datadate.mode=overlaps&datadate.relative=none&area_north=&area_west=&area_east=&area_south=&search.submit=Search&output=json')\n",
    "#json.load(open(fil)) #Uncomment to see the output"
   ]
  },
  {
   "cell_type": "markdown",
   "metadata": {},
   "source": [
    "#### Different file types can be specified as http://geodesystems.com/repository/search/type/type=xxxxxxxxxxxxx for example:\n",
    "\n",
    "###### type=type_idv_bundle\n",
    "###### type=type_document_pdf\n",
    "###### type=type_document_html\n",
    "###### type=type_image\n",
    "###### type=python_notebook\n",
    "\n",
    "for searching by folder name\n",
    "###### type=group\n",
    "\n",
    "for searching by file name type=group?name=hello\n",
    "###### type=file\n",
    "\n",
    "Text type files\n",
    "###### type=point_text\n",
    "\n",
    "for gridded data files \n",
    "###### type=cdm_grid, \n",
    "                    unfortunately currently not all gridded netcdf/grib files are reported, \n",
    "                    they are more reported as file, only ones published on ramadda as \n",
    "                    gridded files are reported\n",
    "##### type=file?text=.nc would search files with extension nc\n",
    "\n",
    "\n",
    "##### other types can be found by hovering over /repository/search/type/"
   ]
  },
  {
   "cell_type": "markdown",
   "metadata": {},
   "source": [
    "### To search associations of an entry for example what datasets were derived from a super dataset\n",
    "Use associations\n",
    "for example specify an id of superdataset\n",
    "\n",
    "http://localhost:8080/repository/search/associations/do?id=xjdajjadajndadooq12143194o&type=derived+from&submit=Search&output=default.csv"
   ]
  }
 ],
 "metadata": {
  "anaconda-cloud": {},
  "kernelspec": {
   "display_name": "Python [default]",
   "language": "python",
   "name": "python2"
  },
  "language_info": {
   "codemirror_mode": {
    "name": "ipython",
    "version": 2
   },
   "file_extension": ".py",
   "mimetype": "text/x-python",
   "name": "python",
   "nbconvert_exporter": "python",
   "pygments_lexer": "ipython2",
   "version": "2.7.11"
  }
 },
 "nbformat": 4,
 "nbformat_minor": 0
}
