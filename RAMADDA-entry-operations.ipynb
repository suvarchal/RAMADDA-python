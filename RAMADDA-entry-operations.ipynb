{
 "cells": [
  {
   "cell_type": "markdown",
   "metadata": {},
   "source": [
    "# Once an entry is known this notebook demonstrates operations on it."
   ]
  },
  {
   "cell_type": "code",
   "execution_count": 1,
   "metadata": {
    "collapsed": true
   },
   "outputs": [],
   "source": [
    "#Using show for an id in browser(Default) shows the file\n",
    "for example\n",
    "http://weather.rsmas.miami.edu/repository/entry/show?entryid=synth%3A0258e5f8-7f78-477a-9c5f-70791acdee4a%3AL2V4cDUubmM%3D\n",
    "get would start downloading the file\n",
    "http://weather.rsmas.miami.edu/repository/entry/get?entryid=synth%3A0258e5f8-7f78-477a-9c5f-70791acdee4a%3AL2V4cDUubmM%3D   \n",
    "\n",
    "for using in python use get and urlretrieve to get a local temp file"
   ]
  },
  {
   "cell_type": "code",
   "execution_count": 2,
   "metadata": {
    "collapsed": true
   },
   "outputs": [],
   "source": [
    "#services and apis on it"
   ]
  },
  {
   "cell_type": "code",
   "execution_count": null,
   "metadata": {
    "collapsed": true
   },
   "outputs": [],
   "source": [
    "#all the apis defined on this entry type can be accessed by json and hence be made as a call\n",
    "#which json call is made on a group then all files and their services are listed in json"
   ]
  },
  {
   "cell_type": "code",
   "execution_count": 3,
   "metadata": {
    "collapsed": true
   },
   "outputs": [],
   "source": [
    "import urllib"
   ]
  },
  {
   "cell_type": "code",
   "execution_count": 4,
   "metadata": {
    "collapsed": true
   },
   "outputs": [],
   "source": [
    "localfile,head=urllib.urlretrieve('http://weather.rsmas.miami.edu/repository/entry/show?entryid=synth%3A0258e5f8-7f78-477a-9c5f-70791acdee4a%3AL2V4cDUubmM%3D&output=json')"
   ]
  },
  {
   "cell_type": "code",
   "execution_count": 5,
   "metadata": {
    "collapsed": true
   },
   "outputs": [],
   "source": [
    "import json"
   ]
  },
  {
   "cell_type": "code",
   "execution_count": 14,
   "metadata": {
    "collapsed": false
   },
   "outputs": [],
   "source": [
    "js_loaded=json.load(open(localfile))"
   ]
  },
  {
   "cell_type": "code",
   "execution_count": 30,
   "metadata": {
    "collapsed": false
   },
   "outputs": [
    {
     "data": {
      "text/plain": [
       "[{u'mimeType': None,\n",
       "  u'name': u'HTML Display - exp5.nc',\n",
       "  u'relType': u'default.html',\n",
       "  u'url': u'http://weather.rsmas.miami.edu/repository/entry/show?entryid=synth%3A0258e5f8-7f78-477a-9c5f-70791acdee4a%3AL2V4cDUubmM%3D&output=default.html'},\n",
       " {u'mimeType': None,\n",
       "  u'name': u'Point time series - exp5.nc',\n",
       "  u'relType': u'grid.point.json',\n",
       "  u'url': u'http://weather.rsmas.miami.edu/repository/grid/json?entryid=synth:0258e5f8-7f78-477a-9c5f-70791acdee4a:L2V4cDUubmM=&location.latitude=${latitude}&location.longitude=${longitude}'},\n",
       " {u'mimeType': None,\n",
       "  u'name': u'OPeNDAP Link',\n",
       "  u'relType': u'opendap',\n",
       "  u'url': u'http://weather.rsmas.miami.edu/repository/opendap/synth:0258e5f8-7f78-477a-9c5f-70791acdee4a:L2V4cDUubmM=/entry.das'}]"
      ]
     },
     "execution_count": 30,
     "metadata": {},
     "output_type": "execute_result"
    }
   ],
   "source": [
    "js_loaded[0]['services'] #LIst of services on that perticular kind of file"
   ]
  },
  {
   "cell_type": "code",
   "execution_count": 33,
   "metadata": {
    "collapsed": false
   },
   "outputs": [
    {
     "name": "stdout",
     "output_type": "stream",
     "text": [
      "http://weather.rsmas.miami.edu/repository/opendap/synth:0258e5f8-7f78-477a-9c5f-70791acdee4a:L2V4cDUubmM=/entry.das\n"
     ]
    }
   ],
   "source": [
    "print js_loaded[0]['services'][2]['url'] #gives opendap url\n",
    "nc_file=js_loaded[0]['services'][2]['url']"
   ]
  },
  {
   "cell_type": "code",
   "execution_count": 25,
   "metadata": {
    "collapsed": false
   },
   "outputs": [
    {
     "data": {
      "text/plain": [
       "<xarray.Dataset>\n",
       "Dimensions:          (ilev: 31, lat: 96, lev: 30, lon: 144, nbnd: 2, slat: 95, slon: 144, time: 120)\n",
       "Coordinates:\n",
       "  * lev              (lev) float64 1e+03 975.0 950.0 925.0 900.0 875.0 850.0 ...\n",
       "  * ilev             (ilev) float64 1e+03 975.0 950.0 925.0 900.0 875.0 ...\n",
       "  * time             (time) datetime64[ns] 1979-08-01T00:59:59 ...\n",
       "  * lat              (lat) float64 -90.0 -88.11 -86.21 -84.32 -82.42 -80.53 ...\n",
       "  * lon              (lon) float64 0.0 2.5 5.0 7.5 10.0 12.5 15.0 17.5 20.0 ...\n",
       "  * slat             (slat) float64 -89.05 -87.16 -85.26 -83.37 -81.47 ...\n",
       "  * slon             (slon) float64 -1.25 1.25 3.75 6.25 8.75 11.25 13.75 ...\n",
       "  * nbnd             (nbnd) int64 0 1\n",
       "Data variables:\n",
       "    hyam             (lev) float64 ...\n",
       "    hybm             (lev) float64 ...\n",
       "    hyai             (ilev) float64 ...\n",
       "    hybi             (ilev) float64 ...\n",
       "    P0               float64 ...\n",
       "    date             (time) int32 ...\n",
       "    datesec          (time) int32 ...\n",
       "    w_stag           (slat) float64 ...\n",
       "    time_bnds        (time, nbnd) float64 ...\n",
       "    date_written     (time) |S64 ...\n",
       "    time_written     (time) |S64 ...\n",
       "    ntrm             int32 ...\n",
       "    ntrn             int32 ...\n",
       "    ntrk             int32 ...\n",
       "    ndbase           int32 ...\n",
       "    nsbase           int32 ...\n",
       "    nbdate           int32 ...\n",
       "    nbsec            int32 ...\n",
       "    mdt              int32 ...\n",
       "    nlon             (lat) int32 ...\n",
       "    wnummax          (lat) int32 ...\n",
       "    gw               (lat) float64 ...\n",
       "    ndcur            (time) int32 ...\n",
       "    nscur            (time) int32 ...\n",
       "    co2vmr           (time) float64 ...\n",
       "    ch4vmr           (time) float64 ...\n",
       "    n2ovmr           (time) float64 ...\n",
       "    f11vmr           (time) float64 ...\n",
       "    f12vmr           (time) float64 ...\n",
       "    sol_tsi          (time) float64 ...\n",
       "    nsteph           (time) int32 ...\n",
       "    Cu_bogbot        (time, lev, lat, lon) float64 ...\n",
       "    Cu_bogtop        (time, lev, lat, lon) float64 ...\n",
       "    Cu_cbmf          (time, lat, lon) float32 ...\n",
       "    Cu_cbmflimit     (time, lat, lon) float32 ...\n",
       "    Cu_cin           (time, lat, lon) float32 ...\n",
       "    Cu_cinlcl        (time, lat, lon) float32 ...\n",
       "    Cu_cufrc         (time, lev, lat, lon) float64 ...\n",
       "    Cu_emfkbup       (time, lat, lon) float32 ...\n",
       "    Cu_evapprec      (time, lat, lon) float32 ...\n",
       "    Cu_evaprain      (time, lat, lon) float32 ...\n",
       "    Cu_fdr           (time, lev, lat, lon) float64 ...\n",
       "    Cu_fer           (time, lev, lat, lon) float64 ...\n",
       "    Cu_limit_cbmf    (time, lat, lon) float32 ...\n",
       "    Cu_limit_cin     (time, lat, lon) float32 ...\n",
       "    Cu_limit_cinlcl  (time, lat, lon) float32 ...\n",
       "    Cu_limit_emf     (time, lat, lon) float32 ...\n",
       "    Cu_limit_negcon  (time, lat, lon) float32 ...\n",
       "    Cu_limit_ppen    (time, lat, lon) float32 ...\n",
       "    Cu_limit_rei     (time, lat, lon) float32 ...\n",
       "    Cu_limit_shcu    (time, lat, lon) float32 ...\n",
       "    Cu_limit_ufrc    (time, lat, lon) float32 ...\n",
       "    Cu_pbup          (time, lat, lon) float32 ...\n",
       "    Cu_pinv          (time, lat, lon) float32 ...\n",
       "    Cu_plcl          (time, lat, lon) float32 ...\n",
       "    Cu_plfc          (time, lat, lon) float32 ...\n",
       "    Cu_plume1_MF     (time, ilev, lat, lon) float64 ...\n",
       "    Cu_plume1_Mup    (time, ilev, lat, lon) float64 ...\n",
       "    Cu_plume1_b      (time, ilev, lat, lon) float64 ...\n",
       "    Cu_plume1_ufrc   (time, ilev, lat, lon) float64 ...\n",
       "    Cu_plume1_w      (time, ilev, lat, lon) float64 ...\n",
       "    Cu_plumeN_MF     (time, ilev, lat, lon) float64 ...\n",
       "    Cu_plumeN_Mup    (time, ilev, lat, lon) float64 ...\n",
       "    Cu_plumeN_b      (time, ilev, lat, lon) float64 ...\n",
       "    Cu_plumeN_ufrc   (time, ilev, lat, lon) float64 ...\n",
       "    Cu_plumeN_w      (time, ilev, lat, lon) float64 ...\n",
       "    Cu_ppen          (time, lat, lon) float32 ...\n",
       "    Cu_preover       (time, lev, lat, lon) float64 ...\n",
       "    Cu_preprod       (time, lev, lat, lon) float64 ...\n",
       "    Cu_preprodnet    (time, lev, lat, lon) float64 ...\n",
       "    Cu_prerevap      (time, lev, lat, lon) float64 ...\n",
       "    Cu_priover       (time, lev, lat, lon) float64 ...\n",
       "    Cu_priprod       (time, lev, lat, lon) float64 ...\n",
       "    Cu_priprodnet    (time, lev, lat, lon) float64 ...\n",
       "    Cu_prirevap      (time, lev, lat, lon) float64 ...\n",
       "    Cu_qcten         (time, lev, lat, lon) float64 ...\n",
       "    Cu_qcu           (time, lev, lat, lon) float64 ...\n",
       "    Cu_qiten         (time, lev, lat, lon) float64 ...\n",
       "    Cu_qlten         (time, lev, lat, lon) float64 ...\n",
       "    Cu_qlu           (time, lev, lat, lon) float64 ...\n",
       "    Cu_qrten         (time, lev, lat, lon) float64 ...\n",
       "    Cu_qtflx         (time, ilev, lat, lon) float64 ...\n",
       "    Cu_qtten         (time, lev, lat, lon) float64 ...\n",
       "    Cu_qtu           (time, ilev, lat, lon) float64 ...\n",
       "    Cu_qvten         (time, lev, lat, lon) float64 ...\n",
       "    Cu_rcwp          (time, lat, lon) float32 ...\n",
       "    Cu_rlwp          (time, lat, lon) float32 ...\n",
       "    Cu_slflx         (time, ilev, lat, lon) float64 ...\n",
       "    Cu_slten         (time, lev, lat, lon) float64 ...\n",
       "    Cu_srcqt         (time, lat, lon) float32 ...\n",
       "    Cu_srcthl        (time, lat, lon) float32 ...\n",
       "    Cu_srcthvl       (time, lat, lon) float32 ...\n",
       "    Cu_thlu          (time, ilev, lat, lon) float64 ...\n",
       "    Cu_thvu          (time, ilev, lat, lon) float64 ...\n",
       "    Cu_tkeavg        (time, lat, lon) float32 ...\n",
       "    Cu_tophgt        (time, lat, lon) float32 ...\n",
       "    Cu_uflx          (time, ilev, lat, lon) float64 ...\n",
       "    Cu_ufrc          (time, ilev, lat, lon) float64 ...\n",
       "    Cu_ufrcinvbase   (time, lat, lon) float32 ...\n",
       "    Cu_ufrclcl       (time, lat, lon) float32 ...\n",
       "    Cu_umf           (time, ilev, lat, lon) float64 ...\n",
       "    Cu_uten          (time, lev, lat, lon) float64 ...\n",
       "    Cu_uu            (time, ilev, lat, lon) float64 ...\n",
       "    Cu_vflx          (time, ilev, lat, lon) float64 ...\n",
       "    Cu_vten          (time, lev, lat, lon) float64 ...\n",
       "    Cu_vu            (time, ilev, lat, lon) float64 ...\n",
       "    Cu_winvbase      (time, lat, lon) float32 ...\n",
       "    Cu_wlcl          (time, lat, lon) float32 ...\n",
       "    Cu_wu            (time, ilev, lat, lon) float64 ...\n",
       "    Cu_zinv          (time, lat, lon) float32 ...\n",
       "    OMEGA            (time, lev, lat, lon) float64 ...\n",
       "    ORG              (time, lat, lon) float32 ...\n",
       "    PRECC            (time, lat, lon) float32 ...\n",
       "    PRECL            (time, lat, lon) float32 ...\n",
       "    PS               (time, lat, lon) float32 ...\n",
       "    Q                (time, lev, lat, lon) float64 ...\n",
       "    RELHUM           (time, lev, lat, lon) float64 ...\n",
       "    T                (time, lev, lat, lon) float64 ...\n",
       "    U                (time, lev, lat, lon) float64 ...\n",
       "    V                (time, lev, lat, lon) float64 ...\n",
       "    Z3               (time, lev, lat, lon) float64 ...\n",
       "Attributes:\n",
       "    Conventions: CF-1.0\n",
       "    source: CAM\n",
       "    case: f.e10.FAMIPC5.f19_f19.ORG.006_Branch\n",
       "    title: UNSET\n",
       "    logname: bchen\n",
       "    host: ares_n18.ccs.mia\n",
       "    Version: $Name$\n",
       "    revision_Id: $Id$\n",
       "    initial_file: /nethome/bchen/CAM5/cesm1_0_3_input_data//atm/cam/inic/fv/cami_0000-01-01_1.9x2.5_L30_c070703.nc\n",
       "    topography_file: /nethome/bchen/CAM5/cesm1_0_3_input_data//atm/cam/topo/USGS-gtopo30_1.9x2.5_remap_c050602.nc\n",
       "    DODS.strlen: 8\n",
       "    DODS.dimName: chars\n",
       "    DODS_EXTRA.Unlimited_Dimension: time\n",
       "    EXTRA_DIMENSION.ncl10: 31\n",
       "    EXTRA_DIMENSION.ncl11: 30"
      ]
     },
     "execution_count": 25,
     "metadata": {},
     "output_type": "execute_result"
    }
   ],
   "source": [
    "import xarray\n",
    "xarray.open_dataset(nc_file)"
   ]
  },
  {
   "cell_type": "markdown",
   "metadata": {
    "collapsed": true
   },
   "source": [
    "## services of RAMADDA can be applied on files and files can be obtained\n",
    "## for example calculations on dataset can be made on serverside and file can be obtained\n",
    "\n",
    "\n",
    "append available services to output=servicetype\n",
    "for example using grid subset feature\n",
    "\n",
    "http://weather.rsmas.miami.edu/repository/entry/show?entryid=synth%3A0258e5f8-7f78-477a-9c5f-70791acdee4a%3AL2V4cDUubmM%3D&output=data.gridsubset.form\n",
    "&area_north=90.0&area_west=0.0&area_east=357.5&area_south=-90.0&calendar=noleap&fromdate=1979-08-01%2002%3A00%3A00%20UTC&todate=1979-08-01%2005%3A00%3A00%20UTC&addlatlon=true&variable=Cu_cbmf\n"
   ]
  },
  {
   "cell_type": "markdown",
   "metadata": {},
   "source": [
    "list of ramadda services can be found on http://weather.rsmas.miami.edu/repository/services/list\n",
    "    \n",
    "operation on an entry can also be achieved by using service id\n",
    "below is example of nco operator on a file\n",
    "http://weather.rsmas.miami.edu/repository/services/view?serviceid=geo_nco_ncwa&geo_nco_ncwa.input_file_hidden=synth%3Ae169cc63-a9d9-4d70-b8c6-ddba3c58f78e%3ALzA4ZC9nZnNyZV8wOGRfZGFpbHlfMjAwOS5uYw%3D%3D&geo_nco_ncwa.input_file=gfsre_08d_daily_2009.nc&geo_nco_ncwa.nco.operation=avg&geo_nco_ncwa.nco.mask.comp=eq\n",
    "    &geo_nco_ncwa.nco.format=3&serviceform=true&execute=Execute&newdirectory=true&gotoproducts=true\n"
   ]
  },
  {
   "cell_type": "code",
   "execution_count": 35,
   "metadata": {
    "collapsed": true
   },
   "outputs": [],
   "source": [
    "#API service \n",
    "#http://weather.rsmas.miami.edu/repository/grid/json?entryid=synth%3A0258e5f8-7f78-477a-9c5f-70791acdee4a%3AL2V4cDUubmM%3D"
   ]
  },
  {
   "cell_type": "markdown",
   "metadata": {},
   "source": [
    "# HERE is how to retrieve an ncml file\n",
    "\n",
    "## add output=data.cdl&format=ncml to entry show\n",
    "## use entry/get to get the file"
   ]
  },
  {
   "cell_type": "code",
   "execution_count": null,
   "metadata": {
    "collapsed": true
   },
   "outputs": [],
   "source": [
    "http://weather.rsmas.miami.edu/repository/entry/show?entryid=synth%3A0258e5f8-7f78-477a-9c5f-70791acdee4a%3AL2V4cDUubmM%3D&output=data.cdl&format=ncml"
   ]
  }
 ],
 "metadata": {
  "anaconda-cloud": {},
  "kernelspec": {
   "display_name": "Python [default]",
   "language": "python",
   "name": "python2"
  },
  "language_info": {
   "codemirror_mode": {
    "name": "ipython",
    "version": 2
   },
   "file_extension": ".py",
   "mimetype": "text/x-python",
   "name": "python",
   "nbconvert_exporter": "python",
   "pygments_lexer": "ipython2",
   "version": "2.7.11"
  }
 },
 "nbformat": 4,
 "nbformat_minor": 0
}
